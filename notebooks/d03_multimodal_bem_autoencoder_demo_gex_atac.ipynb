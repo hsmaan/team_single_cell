{
 "cells": [
  {
   "cell_type": "code",
   "execution_count": null,
   "metadata": {},
   "outputs": [],
   "source": [
    "import os\n",
    "\n",
    "from helpers.preprocessing import GexAtacPreprocess\n",
    "from train import GexAtacTrainer\n",
    "from evaluate import GexAtacEvaluation"
   ]
  },
  {
   "cell_type": "code",
   "execution_count": null,
   "metadata": {},
   "outputs": [],
   "source": [
    "os.chdir('..')\n",
    "gex_atac_preprocess = GexAtacPreprocess(\"data/multimodal/GSE194122_openproblems_neurips2021_multiome_BMMC_processed.h5ad\", 2500, 7000)"
   ]
  },
  {
   "cell_type": "code",
   "execution_count": null,
   "metadata": {},
   "outputs": [],
   "source": [
    "latent_dim = 20\n",
    "gex_atac_trainer = GexAtacTrainer(\n",
    "    gex_atac_preprocess.dataset, latent_dim, gex_atac_preprocess.gex_dim,\n",
    "    gex_atac_preprocess.atac_dim\n",
    ")"
   ]
  },
  {
   "cell_type": "code",
   "execution_count": null,
   "metadata": {},
   "outputs": [],
   "source": [
    "gex_atac_trainer.train()"
   ]
  },
  {
   "cell_type": "code",
   "execution_count": null,
   "metadata": {},
   "outputs": [],
   "source": [
    "gex_atac_eval = GexAtacEvaluation(\n",
    "    gex_atac_trainer.autoencoder, gex_atac_trainer.gex_atac_ds,\n",
    "    gex_atac_preprocess.dataset, gex_atac_trainer.device\n",
    ")"
   ]
  },
  {
   "cell_type": "code",
   "execution_count": null,
   "metadata": {},
   "outputs": [],
   "source": [
    "gex_atac_eval.evaluate()"
   ]
  }
 ],
 "metadata": {
  "kernelspec": {
   "display_name": "Python 3.10.8 64-bit",
   "language": "python",
   "name": "python3"
  },
  "language_info": {
   "name": "python",
   "version": "3.10.8"
  },
  "orig_nbformat": 4,
  "vscode": {
   "interpreter": {
    "hash": "42868da85bbacf81a7e610af2a17d5d7fe6ec0f972bf1b3d5a0629009cb60fae"
   }
  }
 },
 "nbformat": 4,
 "nbformat_minor": 2
}
